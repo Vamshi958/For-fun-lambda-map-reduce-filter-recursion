{
 "cells": [
  {
   "cell_type": "code",
   "execution_count": 1,
   "id": "051ed901-fd92-4a79-896e-69be27977912",
   "metadata": {},
   "outputs": [],
   "source": [
    "def test():\n",
    "    print(\"this is my function\")\n",
    "    "
   ]
  },
  {
   "cell_type": "code",
   "execution_count": 2,
   "id": "d6787db6-c45a-4bb1-93d1-b26f18a23cca",
   "metadata": {},
   "outputs": [
    {
     "name": "stdout",
     "output_type": "stream",
     "text": [
      "this is my function\n"
     ]
    }
   ],
   "source": [
    "test()"
   ]
  },
  {
   "cell_type": "code",
   "execution_count": 4,
   "id": "1747e8d7-f29f-48f8-91c0-6bf3b5641c5a",
   "metadata": {},
   "outputs": [
    {
     "name": "stdout",
     "output_type": "stream",
     "text": [
      "this is my function\n"
     ]
    }
   ],
   "source": [
    "test() #you can print function n number of times"
   ]
  },
  {
   "cell_type": "code",
   "execution_count": 5,
   "id": "ea02a6a9-752f-40ab-898b-faea1aa08bd4",
   "metadata": {},
   "outputs": [],
   "source": [
    "def test1():\n",
    "    print(\"test\")"
   ]
  },
  {
   "cell_type": "code",
   "execution_count": 7,
   "id": "60ef9fe0-c3dc-4288-9467-263ad14febd2",
   "metadata": {},
   "outputs": [
    {
     "name": "stdout",
     "output_type": "stream",
     "text": [
      "test\n"
     ]
    }
   ],
   "source": [
    "test1()"
   ]
  },
  {
   "cell_type": "code",
   "execution_count": 13,
   "id": "e1cb4a42-7a6b-4b0e-8416-573c6a76b03e",
   "metadata": {},
   "outputs": [
    {
     "name": "stdout",
     "output_type": "stream",
     "text": [
      "test\n"
     ]
    },
    {
     "ename": "TypeError",
     "evalue": "unsupported operand type(s) for +: 'NoneType' and 'str'",
     "output_type": "error",
     "traceback": [
      "\u001b[0;31m---------------------------------------------------------------------------\u001b[0m",
      "\u001b[0;31mTypeError\u001b[0m                                 Traceback (most recent call last)",
      "Cell \u001b[0;32mIn[13], line 1\u001b[0m\n\u001b[0;32m----> 1\u001b[0m \u001b[43mtest1\u001b[49m\u001b[43m(\u001b[49m\u001b[43m)\u001b[49m\u001b[43m \u001b[49m\u001b[38;5;241;43m+\u001b[39;49m\u001b[43m \u001b[49m\u001b[38;5;124;43m\"\u001b[39;49m\u001b[38;5;124;43msudh \u001b[39;49m\u001b[38;5;124;43m\"\u001b[39;49m     \u001b[38;5;66;03m#concatination is not possible- it concatinate with string+none type\u001b[39;00m\n",
      "\u001b[0;31mTypeError\u001b[0m: unsupported operand type(s) for +: 'NoneType' and 'str'"
     ]
    }
   ],
   "source": [
    "test1() + \"sudh \"     #concatination is not possible- it concatinate with string+none type"
   ]
  },
  {
   "cell_type": "code",
   "execution_count": 12,
   "id": "030aa8d8-4afa-4044-8477-a32ab8016ea7",
   "metadata": {},
   "outputs": [
    {
     "name": "stdout",
     "output_type": "stream",
     "text": [
      "test\n"
     ]
    },
    {
     "data": {
      "text/plain": [
       "NoneType"
      ]
     },
     "execution_count": 12,
     "metadata": {},
     "output_type": "execute_result"
    }
   ],
   "source": [
    "type(test1()) #it returns none type"
   ]
  },
  {
   "cell_type": "code",
   "execution_count": 14,
   "id": "33b02ca5-14ce-4e0f-aa13-203e42b7eabb",
   "metadata": {},
   "outputs": [],
   "source": [
    "def test2():\n",
    "    print(1+2)"
   ]
  },
  {
   "cell_type": "code",
   "execution_count": 15,
   "id": "f70c438b-21fc-4100-9f26-d00a55f0cce1",
   "metadata": {},
   "outputs": [
    {
     "name": "stdout",
     "output_type": "stream",
     "text": [
      "3\n"
     ]
    }
   ],
   "source": [
    "test2()"
   ]
  },
  {
   "cell_type": "code",
   "execution_count": 16,
   "id": "a9ca3ce9-2fd2-4cf4-a030-33bf06947fcc",
   "metadata": {},
   "outputs": [
    {
     "name": "stdout",
     "output_type": "stream",
     "text": [
      "3\n"
     ]
    },
    {
     "ename": "TypeError",
     "evalue": "unsupported operand type(s) for +: 'NoneType' and 'int'",
     "output_type": "error",
     "traceback": [
      "\u001b[0;31m---------------------------------------------------------------------------\u001b[0m",
      "\u001b[0;31mTypeError\u001b[0m                                 Traceback (most recent call last)",
      "Cell \u001b[0;32mIn[16], line 1\u001b[0m\n\u001b[0;32m----> 1\u001b[0m \u001b[43mtest2\u001b[49m\u001b[43m(\u001b[49m\u001b[43m)\u001b[49m\u001b[38;5;241;43m+\u001b[39;49m\u001b[43m \u001b[49m\u001b[38;5;241;43m10\u001b[39;49m\n",
      "\u001b[0;31mTypeError\u001b[0m: unsupported operand type(s) for +: 'NoneType' and 'int'"
     ]
    }
   ],
   "source": [
    "test2()+ 10 #print statement always try to return Nonetype, and you are not able to perform primitive operations"
   ]
  },
  {
   "cell_type": "code",
   "execution_count": 24,
   "id": "b38a9971-1863-4409-93d5-9e9381bd65dd",
   "metadata": {},
   "outputs": [],
   "source": [
    "def test3():\n",
    "    return 1+2 #return will return your data as it is.you can do primitive operations."
   ]
  },
  {
   "cell_type": "code",
   "execution_count": 20,
   "id": "efdf39da-20d7-4afd-b0cd-82208f603f77",
   "metadata": {},
   "outputs": [
    {
     "data": {
      "text/plain": [
       "3"
      ]
     },
     "execution_count": 20,
     "metadata": {},
     "output_type": "execute_result"
    }
   ],
   "source": [
    "test3()"
   ]
  },
  {
   "cell_type": "code",
   "execution_count": 21,
   "id": "b4b64abd-7ba1-44df-b943-3c373708983e",
   "metadata": {},
   "outputs": [
    {
     "data": {
      "text/plain": [
       "13"
      ]
     },
     "execution_count": 21,
     "metadata": {},
     "output_type": "execute_result"
    }
   ],
   "source": [
    "test3() + 10"
   ]
  },
  {
   "cell_type": "code",
   "execution_count": 23,
   "id": "94efcacf-349f-421a-856a-4336af0513da",
   "metadata": {},
   "outputs": [
    {
     "data": {
      "text/plain": [
       "int"
      ]
     },
     "execution_count": 23,
     "metadata": {},
     "output_type": "execute_result"
    }
   ],
   "source": [
    "type(test3())"
   ]
  },
  {
   "cell_type": "code",
   "execution_count": 35,
   "id": "761c535c-7667-46bd-8cde-2d4a70ad6819",
   "metadata": {},
   "outputs": [],
   "source": [
    "def test4():\n",
    "    return 2,\"vamshi\",True,[1,2,3,4]  #you can return multiple variables/outcomes in form of tuples."
   ]
  },
  {
   "cell_type": "code",
   "execution_count": 32,
   "id": "ca7a7f65-848b-4060-9443-cd2da20560ba",
   "metadata": {},
   "outputs": [
    {
     "data": {
      "text/plain": [
       "(2, 'vamshi', True, [1, 2, 3, 4])"
      ]
     },
     "execution_count": 32,
     "metadata": {},
     "output_type": "execute_result"
    }
   ],
   "source": [
    "test4()"
   ]
  },
  {
   "cell_type": "code",
   "execution_count": 33,
   "id": "de7b143d-a1dd-4a51-a15a-9cde99c31198",
   "metadata": {},
   "outputs": [],
   "source": [
    "a,b,c,d = 1,\"vamshi\",34,35"
   ]
  },
  {
   "cell_type": "code",
   "execution_count": 34,
   "id": "4d24dcd3-18ee-4da8-870e-6470fedcd8b5",
   "metadata": {},
   "outputs": [],
   "source": [
    "a=1\n",
    "b=\"vamshi\"\n",
    "c=34\n",
    "d=45"
   ]
  },
  {
   "cell_type": "code",
   "execution_count": 36,
   "id": "2b9a0b11-b784-4634-ad6d-5a4903006d0b",
   "metadata": {},
   "outputs": [
    {
     "data": {
      "text/plain": [
       "tuple"
      ]
     },
     "execution_count": 36,
     "metadata": {},
     "output_type": "execute_result"
    }
   ],
   "source": [
    "type(test4())"
   ]
  },
  {
   "cell_type": "code",
   "execution_count": 37,
   "id": "e10b211a-a8b5-433a-a042-c82a62a4e416",
   "metadata": {},
   "outputs": [],
   "source": [
    "m,n,o,p = test4()"
   ]
  },
  {
   "cell_type": "code",
   "execution_count": 38,
   "id": "9fbbda75-8bce-493f-b9a5-0ff67f5b2eb9",
   "metadata": {},
   "outputs": [
    {
     "data": {
      "text/plain": [
       "2"
      ]
     },
     "execution_count": 38,
     "metadata": {},
     "output_type": "execute_result"
    }
   ],
   "source": [
    "m"
   ]
  },
  {
   "cell_type": "code",
   "execution_count": 39,
   "id": "6b151e7d-5457-48b1-9015-32b4130c39c3",
   "metadata": {},
   "outputs": [
    {
     "data": {
      "text/plain": [
       "'vamshi'"
      ]
     },
     "execution_count": 39,
     "metadata": {},
     "output_type": "execute_result"
    }
   ],
   "source": [
    "n"
   ]
  },
  {
   "cell_type": "code",
   "execution_count": 40,
   "id": "770b2ffe-14a8-47ef-8131-d7582f29346a",
   "metadata": {},
   "outputs": [
    {
     "data": {
      "text/plain": [
       "True"
      ]
     },
     "execution_count": 40,
     "metadata": {},
     "output_type": "execute_result"
    }
   ],
   "source": [
    "o"
   ]
  },
  {
   "cell_type": "code",
   "execution_count": 41,
   "id": "cfc2afb7-1f00-474c-a689-f1f6fae0d3b4",
   "metadata": {},
   "outputs": [
    {
     "data": {
      "text/plain": [
       "[1, 2, 3, 4]"
      ]
     },
     "execution_count": 41,
     "metadata": {},
     "output_type": "execute_result"
    }
   ],
   "source": [
    "p"
   ]
  },
  {
   "cell_type": "code",
   "execution_count": 44,
   "id": "1ce7d7be-077b-4ac5-82f5-cd144e7570ce",
   "metadata": {},
   "outputs": [],
   "source": [
    "def test5(x):\n",
    "    return x"
   ]
  },
  {
   "cell_type": "code",
   "execution_count": 45,
   "id": "689b963a-4aa4-49ed-984a-5d7632dcba40",
   "metadata": {},
   "outputs": [
    {
     "data": {
      "text/plain": [
       "4"
      ]
     },
     "execution_count": 45,
     "metadata": {},
     "output_type": "execute_result"
    }
   ],
   "source": [
    "test5(4)"
   ]
  },
  {
   "cell_type": "code",
   "execution_count": 46,
   "id": "e6bb715f-533e-44f0-aede-b75d365fd912",
   "metadata": {},
   "outputs": [
    {
     "data": {
      "text/plain": [
       "9"
      ]
     },
     "execution_count": 46,
     "metadata": {},
     "output_type": "execute_result"
    }
   ],
   "source": [
    "test5(4)+5"
   ]
  },
  {
   "cell_type": "code",
   "execution_count": 47,
   "id": "ccc79781-a34a-4d63-a151-7fe62d820e73",
   "metadata": {},
   "outputs": [
    {
     "data": {
      "text/plain": [
       "'vamshi'"
      ]
     },
     "execution_count": 47,
     "metadata": {},
     "output_type": "execute_result"
    }
   ],
   "source": [
    "test5(\"vamshi\")"
   ]
  },
  {
   "cell_type": "code",
   "execution_count": 49,
   "id": "99622c95-8db2-4b5f-a9b3-0de257572f94",
   "metadata": {},
   "outputs": [
    {
     "data": {
      "text/plain": [
       "[1, 2, 3, 4]"
      ]
     },
     "execution_count": 49,
     "metadata": {},
     "output_type": "execute_result"
    }
   ],
   "source": [
    "test5([1,2,3,4])"
   ]
  },
  {
   "cell_type": "code",
   "execution_count": 50,
   "id": "1c053ee9-38e6-4e9a-9678-79d75a35d559",
   "metadata": {},
   "outputs": [
    {
     "ename": "TypeError",
     "evalue": "test5() takes 1 positional argument but 2 were given",
     "output_type": "error",
     "traceback": [
      "\u001b[0;31m---------------------------------------------------------------------------\u001b[0m",
      "\u001b[0;31mTypeError\u001b[0m                                 Traceback (most recent call last)",
      "Cell \u001b[0;32mIn[50], line 1\u001b[0m\n\u001b[0;32m----> 1\u001b[0m \u001b[43mtest5\u001b[49m\u001b[43m(\u001b[49m\u001b[38;5;241;43m4\u001b[39;49m\u001b[43m,\u001b[49m\u001b[38;5;241;43m5\u001b[39;49m\u001b[43m)\u001b[49m\n",
      "\u001b[0;31mTypeError\u001b[0m: test5() takes 1 positional argument but 2 were given"
     ]
    }
   ],
   "source": [
    "test5(4,5)"
   ]
  },
  {
   "cell_type": "code",
   "execution_count": 51,
   "id": "683d8d37-8611-4bcd-95c6-5d81506aa72c",
   "metadata": {},
   "outputs": [
    {
     "ename": "TypeError",
     "evalue": "test5() missing 1 required positional argument: 'x'",
     "output_type": "error",
     "traceback": [
      "\u001b[0;31m---------------------------------------------------------------------------\u001b[0m",
      "\u001b[0;31mTypeError\u001b[0m                                 Traceback (most recent call last)",
      "Cell \u001b[0;32mIn[51], line 1\u001b[0m\n\u001b[0;32m----> 1\u001b[0m \u001b[43mtest5\u001b[49m\u001b[43m(\u001b[49m\u001b[43m)\u001b[49m\n",
      "\u001b[0;31mTypeError\u001b[0m: test5() missing 1 required positional argument: 'x'"
     ]
    }
   ],
   "source": [
    "test5()"
   ]
  },
  {
   "cell_type": "code",
   "execution_count": 52,
   "id": "74d93165-2c1a-4107-bcb2-9d343d9cffb5",
   "metadata": {},
   "outputs": [],
   "source": [
    "def test6(x,y):\n",
    "    return x,y"
   ]
  },
  {
   "cell_type": "code",
   "execution_count": 53,
   "id": "a8996868-1b93-4378-936f-865bb0fc37ac",
   "metadata": {},
   "outputs": [
    {
     "data": {
      "text/plain": [
       "(7, 8)"
      ]
     },
     "execution_count": 53,
     "metadata": {},
     "output_type": "execute_result"
    }
   ],
   "source": [
    "test6(7,8)"
   ]
  },
  {
   "cell_type": "code",
   "execution_count": 55,
   "id": "67ffd478-4f77-4fe7-914c-b01c68b91d66",
   "metadata": {},
   "outputs": [
    {
     "data": {
      "text/plain": [
       "('sudh', [1, 2, 3, 4, 5])"
      ]
     },
     "execution_count": 55,
     "metadata": {},
     "output_type": "execute_result"
    }
   ],
   "source": [
    "test6(\"sudh\",[1,2,3,4,5])  #you can pass any type of data"
   ]
  },
  {
   "cell_type": "code",
   "execution_count": 57,
   "id": "3b252d9f-2c62-450b-a809-c266c71389b4",
   "metadata": {},
   "outputs": [],
   "source": [
    "def test7(a:int,b:int):\n",
    "    return a,b"
   ]
  },
  {
   "cell_type": "code",
   "execution_count": 58,
   "id": "b1810ec9-7bf2-4fb6-aeaa-e5a6dfdc9d5d",
   "metadata": {},
   "outputs": [
    {
     "data": {
      "text/plain": [
       "(4, 5)"
      ]
     },
     "execution_count": 58,
     "metadata": {},
     "output_type": "execute_result"
    }
   ],
   "source": [
    "test7(4,5)"
   ]
  },
  {
   "cell_type": "code",
   "execution_count": 59,
   "id": "bfbbc576-b94c-4be6-b175-66868bfa52f4",
   "metadata": {},
   "outputs": [
    {
     "data": {
      "text/plain": [
       "('vamshi', [5])"
      ]
     },
     "execution_count": 59,
     "metadata": {},
     "output_type": "execute_result"
    }
   ],
   "source": [
    "test7(\"vamshi\",[5])"
   ]
  },
  {
   "cell_type": "code",
   "execution_count": 65,
   "id": "797f91a0-d65c-4353-90f4-8b526c337294",
   "metadata": {},
   "outputs": [],
   "source": [
    "def test8(x:int,y:int):\n",
    "    return x/y"
   ]
  },
  {
   "cell_type": "code",
   "execution_count": 66,
   "id": "ae76eaee-d81e-4ebd-ad2c-385222947d7f",
   "metadata": {},
   "outputs": [
    {
     "data": {
      "text/plain": [
       "0.8"
      ]
     },
     "execution_count": 66,
     "metadata": {},
     "output_type": "execute_result"
    }
   ],
   "source": [
    "test8(4,5)"
   ]
  },
  {
   "cell_type": "code",
   "execution_count": 67,
   "id": "5cbc101e-2ab7-4f4d-ac24-bd050dc1346f",
   "metadata": {},
   "outputs": [
    {
     "ename": "TypeError",
     "evalue": "unsupported operand type(s) for /: 'str' and 'str'",
     "output_type": "error",
     "traceback": [
      "\u001b[0;31m---------------------------------------------------------------------------\u001b[0m",
      "\u001b[0;31mTypeError\u001b[0m                                 Traceback (most recent call last)",
      "Cell \u001b[0;32mIn[67], line 1\u001b[0m\n\u001b[0;32m----> 1\u001b[0m \u001b[43mtest8\u001b[49m\u001b[43m(\u001b[49m\u001b[38;5;124;43m\"\u001b[39;49m\u001b[38;5;124;43mvamshi\u001b[39;49m\u001b[38;5;124;43m\"\u001b[39;49m\u001b[43m,\u001b[49m\u001b[38;5;124;43m\"\u001b[39;49m\u001b[38;5;124;43mkrishna\u001b[39;49m\u001b[38;5;124;43m\"\u001b[39;49m\u001b[43m)\u001b[49m\n",
      "Cell \u001b[0;32mIn[65], line 2\u001b[0m, in \u001b[0;36mtest8\u001b[0;34m(x, y)\u001b[0m\n\u001b[1;32m      1\u001b[0m \u001b[38;5;28;01mdef\u001b[39;00m \u001b[38;5;21mtest8\u001b[39m(x:\u001b[38;5;28mint\u001b[39m,y:\u001b[38;5;28mint\u001b[39m):\n\u001b[0;32m----> 2\u001b[0m     \u001b[38;5;28;01mreturn\u001b[39;00m \u001b[43mx\u001b[49m\u001b[38;5;241;43m/\u001b[39;49m\u001b[43my\u001b[49m\n",
      "\u001b[0;31mTypeError\u001b[0m: unsupported operand type(s) for /: 'str' and 'str'"
     ]
    }
   ],
   "source": [
    "test8(\"vamshi\",\"krishna\")"
   ]
  },
  {
   "cell_type": "code",
   "execution_count": 71,
   "id": "ca02a4a0-3031-474e-bd44-92257d5b4a23",
   "metadata": {},
   "outputs": [],
   "source": [
    "def test9(c,d):\n",
    "    \"\"\"this is my function which can take two input and return a addition or concatination\"\"\"\n",
    "    return c+d"
   ]
  },
  {
   "cell_type": "code",
   "execution_count": 70,
   "id": "5a0fb644-2616-4b58-86f9-d91e486445a5",
   "metadata": {},
   "outputs": [
    {
     "data": {
      "text/plain": [
       "7"
      ]
     },
     "execution_count": 70,
     "metadata": {},
     "output_type": "execute_result"
    }
   ],
   "source": [
    "test9(3,4)"
   ]
  },
  {
   "cell_type": "code",
   "execution_count": null,
   "id": "bed1140b-0bff-495e-aec1-12016f61ac33",
   "metadata": {},
   "outputs": [],
   "source": [
    "test9() #enter shift+tab to show explanation of your function"
   ]
  },
  {
   "cell_type": "markdown",
   "id": "8fb0f554-53f7-48d7-8e0f-176237d64f3e",
   "metadata": {},
   "source": [
    "*args"
   ]
  },
  {
   "cell_type": "code",
   "execution_count": 75,
   "id": "72f20e3c-4c89-4561-bf73-004f61b1beb5",
   "metadata": {},
   "outputs": [],
   "source": [
    "def test10(*args):  #*args when you dont know how many arguments you need\n",
    "        return args\n",
    "    "
   ]
  },
  {
   "cell_type": "code",
   "execution_count": 76,
   "id": "a2b8e048-bad3-46a6-815c-bf5912704f93",
   "metadata": {},
   "outputs": [
    {
     "data": {
      "text/plain": [
       "()"
      ]
     },
     "execution_count": 76,
     "metadata": {},
     "output_type": "execute_result"
    }
   ],
   "source": [
    "test10()"
   ]
  },
  {
   "cell_type": "code",
   "execution_count": 77,
   "id": "46555d7a-6cd2-48bd-a66b-859192aff7c5",
   "metadata": {},
   "outputs": [
    {
     "data": {
      "text/plain": [
       "(2, 3, 4, 5, 6, 7, 8)"
      ]
     },
     "execution_count": 77,
     "metadata": {},
     "output_type": "execute_result"
    }
   ],
   "source": [
    "test10(2,3,4,5,6,7,8)"
   ]
  },
  {
   "cell_type": "code",
   "execution_count": 78,
   "id": "1296149a-5b85-421d-8e9d-2110171e6549",
   "metadata": {},
   "outputs": [],
   "source": [
    "def test11(*vamshi):\n",
    "    return vamshi"
   ]
  },
  {
   "cell_type": "code",
   "execution_count": 79,
   "id": "c39045c4-ccbe-42f2-b2c3-bc83f10fdce9",
   "metadata": {},
   "outputs": [
    {
     "data": {
      "text/plain": [
       "(3, 4, 56, 6)"
      ]
     },
     "execution_count": 79,
     "metadata": {},
     "output_type": "execute_result"
    }
   ],
   "source": [
    "test11(3,4,56,6)"
   ]
  },
  {
   "cell_type": "code",
   "execution_count": null,
   "id": "07dcd470-4c81-4c69-8f86-07b7c10833f4",
   "metadata": {},
   "outputs": [],
   "source": [
    "**kwargs,arguments,default arguments"
   ]
  },
  {
   "cell_type": "code",
   "execution_count": 80,
   "id": "ab2a4532-87de-416c-85de-d501dfb44dc2",
   "metadata": {},
   "outputs": [],
   "source": [
    "def test12(**kwargs):  #if you wnat to pass data as a key-value pair *-static   -**keyword arguments\n",
    "     return kwargs"
   ]
  },
  {
   "cell_type": "code",
   "execution_count": 81,
   "id": "11b39964-f77a-4837-8e37-69650143af46",
   "metadata": {},
   "outputs": [
    {
     "ename": "TypeError",
     "evalue": "test12() takes 0 positional arguments but 3 were given",
     "output_type": "error",
     "traceback": [
      "\u001b[0;31m---------------------------------------------------------------------------\u001b[0m",
      "\u001b[0;31mTypeError\u001b[0m                                 Traceback (most recent call last)",
      "Cell \u001b[0;32mIn[81], line 1\u001b[0m\n\u001b[0;32m----> 1\u001b[0m \u001b[43mtest12\u001b[49m\u001b[43m(\u001b[49m\u001b[38;5;241;43m4\u001b[39;49m\u001b[43m,\u001b[49m\u001b[38;5;241;43m5\u001b[39;49m\u001b[43m,\u001b[49m\u001b[38;5;241;43m6\u001b[39;49m\u001b[43m)\u001b[49m\n",
      "\u001b[0;31mTypeError\u001b[0m: test12() takes 0 positional arguments but 3 were given"
     ]
    }
   ],
   "source": [
    "test12(4,5,6)"
   ]
  },
  {
   "cell_type": "code",
   "execution_count": 85,
   "id": "1c586512-aed4-4ac6-ad2c-fe6502c84392",
   "metadata": {},
   "outputs": [
    {
     "data": {
      "text/plain": [
       "{'name': 'vamshi'}"
      ]
     },
     "execution_count": 85,
     "metadata": {},
     "output_type": "execute_result"
    }
   ],
   "source": [
    "test12(name=\"vamshi\")"
   ]
  },
  {
   "cell_type": "code",
   "execution_count": 88,
   "id": "29a8c3a2-1625-4d25-9cb2-bcd24e94604a",
   "metadata": {},
   "outputs": [
    {
     "data": {
      "text/plain": [
       "{'name': 'vamshi', 'a': 4, 'b': 5, 'c': 6}"
      ]
     },
     "execution_count": 88,
     "metadata": {},
     "output_type": "execute_result"
    }
   ],
   "source": [
    "test12(name=\"vamshi\",a=4,b=5,c=6)   #kwargs gives output as dictionary"
   ]
  },
  {
   "cell_type": "code",
   "execution_count": 89,
   "id": "86ed6db1-1bc0-4ab1-bfee-068b9a8f81c5",
   "metadata": {},
   "outputs": [
    {
     "data": {
      "text/plain": [
       "{'n': {'a': 4, 'b': 5, 'c': 6}}"
      ]
     },
     "execution_count": 89,
     "metadata": {},
     "output_type": "execute_result"
    }
   ],
   "source": [
    "test12(n={\"a\":4,\"b\":5,\"c\":6})"
   ]
  },
  {
   "cell_type": "code",
   "execution_count": 99,
   "id": "5a99314e-b1f6-47aa-b800-ca56e33b0078",
   "metadata": {},
   "outputs": [],
   "source": [
    "def test13(b,a=10,c=20):  #default value it will atke if we dont pass any value  -----non default values put it at first\n",
    "    return a,b,c                  #a,c called default variables"
   ]
  },
  {
   "cell_type": "code",
   "execution_count": 95,
   "id": "ca02e183-bb9f-459f-a0d0-4e521db7b4a8",
   "metadata": {},
   "outputs": [
    {
     "data": {
      "text/plain": [
       "(10, 56, 20)"
      ]
     },
     "execution_count": 95,
     "metadata": {},
     "output_type": "execute_result"
    }
   ],
   "source": [
    "test13(56)  #a,c taking default values\n"
   ]
  },
  {
   "cell_type": "code",
   "execution_count": 101,
   "id": "73d15f2d-fd33-4da8-89bb-292a9040a079",
   "metadata": {},
   "outputs": [
    {
     "data": {
      "text/plain": [
       "(45, 34, 20)"
      ]
     },
     "execution_count": 101,
     "metadata": {},
     "output_type": "execute_result"
    }
   ],
   "source": [
    "test13(34,a=45)  #overridden a=45.c=default value"
   ]
  },
  {
   "cell_type": "markdown",
   "id": "1ae5d47c-944e-421d-a1a6-3ee15fb41b69",
   "metadata": {},
   "source": [
    "#anonymous functions/LAMBDA/Function without name"
   ]
  },
  {
   "cell_type": "code",
   "execution_count": 102,
   "id": "206363e8-4c47-4e8f-b8a7-f972a751a691",
   "metadata": {},
   "outputs": [],
   "source": [
    "v=test13(4,5,67)"
   ]
  },
  {
   "cell_type": "code",
   "execution_count": 103,
   "id": "1aecc622-af33-43dc-bd77-8142c3a4eb10",
   "metadata": {},
   "outputs": [
    {
     "data": {
      "text/plain": [
       "(5, 4, 67)"
      ]
     },
     "execution_count": 103,
     "metadata": {},
     "output_type": "execute_result"
    }
   ],
   "source": [
    "v"
   ]
  },
  {
   "cell_type": "code",
   "execution_count": 104,
   "id": "7e8646ec-63dc-41a3-82d9-dc092531b03e",
   "metadata": {},
   "outputs": [],
   "source": [
    "def test14(a,b):\n",
    "    return a+b"
   ]
  },
  {
   "cell_type": "code",
   "execution_count": 105,
   "id": "78f1c9f4-4e9b-418d-b65d-17eb49e31b6d",
   "metadata": {},
   "outputs": [
    {
     "data": {
      "text/plain": [
       "11"
      ]
     },
     "execution_count": 105,
     "metadata": {},
     "output_type": "execute_result"
    }
   ],
   "source": [
    "test14(5,6)"
   ]
  },
  {
   "cell_type": "code",
   "execution_count": 112,
   "id": "df6d0bfc-59c1-474c-b80f-3df992d977a9",
   "metadata": {},
   "outputs": [],
   "source": [
    "#other way\n",
    "m = lambda a,b : a+b   # m ---variable,lAmbda---reserved keyword, a,b -parameters, a+b----operation"
   ]
  },
  {
   "cell_type": "code",
   "execution_count": 111,
   "id": "057d045b-976d-45a2-b2e6-6bf05b19ce5f",
   "metadata": {},
   "outputs": [
    {
     "data": {
      "text/plain": [
       "11"
      ]
     },
     "execution_count": 111,
     "metadata": {},
     "output_type": "execute_result"
    }
   ],
   "source": [
    "m(5,6)"
   ]
  },
  {
   "cell_type": "code",
   "execution_count": 113,
   "id": "002fbc75-8c9c-439e-93b1-d0ceb31e1f16",
   "metadata": {},
   "outputs": [
    {
     "data": {
      "text/plain": [
       "<function __main__.test14(a, b)>"
      ]
     },
     "execution_count": 113,
     "metadata": {},
     "output_type": "execute_result"
    }
   ],
   "source": [
    "test14"
   ]
  },
  {
   "cell_type": "code",
   "execution_count": 114,
   "id": "c34d045e-757c-4353-815c-3678a03fb15e",
   "metadata": {},
   "outputs": [
    {
     "data": {
      "text/plain": [
       "<function __main__.<lambda>(a, b)>"
      ]
     },
     "execution_count": 114,
     "metadata": {},
     "output_type": "execute_result"
    }
   ],
   "source": [
    "m"
   ]
  },
  {
   "cell_type": "code",
   "execution_count": 115,
   "id": "64eafe37-bbb5-42f1-9429-07322314f668",
   "metadata": {},
   "outputs": [
    {
     "data": {
      "text/plain": [
       "7"
      ]
     },
     "execution_count": 115,
     "metadata": {},
     "output_type": "execute_result"
    }
   ],
   "source": [
    "m(3,4)"
   ]
  },
  {
   "cell_type": "code",
   "execution_count": 116,
   "id": "df3f6288-3876-4778-8860-6e304db78cc0",
   "metadata": {},
   "outputs": [],
   "source": [
    "def check_even(n):\n",
    "    if n%2==0:\n",
    "        return \"given num is an even\"\n",
    "    else:\n",
    "        return \"given num is not an even\""
   ]
  },
  {
   "cell_type": "code",
   "execution_count": 118,
   "id": "3e6bcec4-84cf-4cd5-89f7-d674aeb57e4c",
   "metadata": {},
   "outputs": [
    {
     "data": {
      "text/plain": [
       "'given num is an even'"
      ]
     },
     "execution_count": 118,
     "metadata": {},
     "output_type": "execute_result"
    }
   ],
   "source": [
    "check_even(4)"
   ]
  },
  {
   "cell_type": "code",
   "execution_count": 128,
   "id": "fca3a668-e3fc-4d60-9ee7-9655e6cfef82",
   "metadata": {},
   "outputs": [],
   "source": [
    "b = lambda n : \"even\"  if n%2==0 else \"odd\""
   ]
  },
  {
   "cell_type": "code",
   "execution_count": 129,
   "id": "bea54bc4-7079-4928-8edc-ca206b0d3603",
   "metadata": {},
   "outputs": [
    {
     "data": {
      "text/plain": [
       "'even'"
      ]
     },
     "execution_count": 129,
     "metadata": {},
     "output_type": "execute_result"
    }
   ],
   "source": [
    "b(4)"
   ]
  },
  {
   "cell_type": "code",
   "execution_count": 130,
   "id": "09fb88f5-8a9b-4fea-bd2b-9b5b78b1c5f2",
   "metadata": {},
   "outputs": [
    {
     "data": {
      "text/plain": [
       "'odd'"
      ]
     },
     "execution_count": 130,
     "metadata": {},
     "output_type": "execute_result"
    }
   ],
   "source": [
    "b(3)"
   ]
  },
  {
   "cell_type": "code",
   "execution_count": 133,
   "id": "0c4da9f8-f7d6-4281-beec-7d802e370bd0",
   "metadata": {},
   "outputs": [],
   "source": [
    "#try to find out min(list) from taking input as list\n",
    "l = [3,4,5,76,3,2,3,4,5]\n",
    "min_list = lambda li : min(li)\n"
   ]
  },
  {
   "cell_type": "code",
   "execution_count": 134,
   "id": "da15e18f-a4bf-41fd-a09b-4327cbe156d6",
   "metadata": {},
   "outputs": [
    {
     "data": {
      "text/plain": [
       "2"
      ]
     },
     "execution_count": 134,
     "metadata": {},
     "output_type": "execute_result"
    }
   ],
   "source": [
    "min_list(l)\n"
   ]
  },
  {
   "cell_type": "code",
   "execution_count": 136,
   "id": "a9c359f1-affe-4012-a01d-23bb0a067cbc",
   "metadata": {},
   "outputs": [],
   "source": [
    "#try to take 2 inputs and give me division\n",
    "div = lambda a,b: a/b"
   ]
  },
  {
   "cell_type": "code",
   "execution_count": 137,
   "id": "47f47ee6-e9e9-4e40-ac8b-01b063d4273b",
   "metadata": {},
   "outputs": [
    {
     "data": {
      "text/plain": [
       "0.75"
      ]
     },
     "execution_count": 137,
     "metadata": {},
     "output_type": "execute_result"
    }
   ],
   "source": [
    "div(3,4)"
   ]
  },
  {
   "cell_type": "code",
   "execution_count": 138,
   "id": "4a2fae3f-7b5a-4648-84e9-975a83414f51",
   "metadata": {},
   "outputs": [],
   "source": [
    "#create take str as input and give str in uppercase\n",
    "stri = \"vamshi\"\n",
    "upper = lambda s : stri.upper()"
   ]
  },
  {
   "cell_type": "code",
   "execution_count": 139,
   "id": "6b52ce41-ae2f-4486-95bc-0c2d4e45fc28",
   "metadata": {},
   "outputs": [
    {
     "data": {
      "text/plain": [
       "'VAMSHI'"
      ]
     },
     "execution_count": 139,
     "metadata": {},
     "output_type": "execute_result"
    }
   ],
   "source": [
    "upper(stri)"
   ]
  },
  {
   "cell_type": "code",
   "execution_count": 164,
   "id": "48b08153-4da7-4fca-bfb6-0d5a75f4ea19",
   "metadata": {},
   "outputs": [],
   "source": [
    "l = [3,4,5,76,3,2,3,4,5]\n",
    "def sum_odd(b):\n",
    "    l1= []  #initialize empty list\n",
    "    for i in b:\n",
    "        if i%2!=0:\n",
    "            l1.append(i)\n",
    "    return sum(l1)"
   ]
  },
  {
   "cell_type": "code",
   "execution_count": 144,
   "id": "5a0188d6-4bac-4a10-914b-2b788f2f7951",
   "metadata": {},
   "outputs": [
    {
     "data": {
      "text/plain": [
       "19"
      ]
     },
     "execution_count": 144,
     "metadata": {},
     "output_type": "execute_result"
    }
   ],
   "source": [
    "sum_odd(l)"
   ]
  },
  {
   "cell_type": "code",
   "execution_count": 145,
   "id": "093b80f3-b86b-4572-ab21-e3d0f6e7ab22",
   "metadata": {},
   "outputs": [
    {
     "data": {
      "text/plain": [
       "6"
      ]
     },
     "execution_count": 145,
     "metadata": {},
     "output_type": "execute_result"
    }
   ],
   "source": [
    "sum([1,2,3])"
   ]
  },
  {
   "cell_type": "code",
   "execution_count": 156,
   "id": "9b4daece-45eb-4536-b3ce-7b2458d9d6d6",
   "metadata": {},
   "outputs": [
    {
     "data": {
      "text/plain": [
       "[3, 5, 3, 3, 5]"
      ]
     },
     "execution_count": 156,
     "metadata": {},
     "output_type": "execute_result"
    }
   ],
   "source": [
    "#list comprehension   -----try to return a list with only odd\n",
    "l = [3,4,5,76,3,2,3,4,5]\n",
    "[i for i in l if i%2!=0]   #first i is to return i next condition\n"
   ]
  },
  {
   "cell_type": "code",
   "execution_count": 158,
   "id": "fcc567bc-181d-410f-984f-7c12a6f80905",
   "metadata": {},
   "outputs": [
    {
     "data": {
      "text/plain": [
       "19"
      ]
     },
     "execution_count": 158,
     "metadata": {},
     "output_type": "execute_result"
    }
   ],
   "source": [
    "sum([i for i in l if i%2!=0])   "
   ]
  },
  {
   "cell_type": "code",
   "execution_count": 159,
   "id": "365a4cca-2949-4b6b-8267-bdd770af604a",
   "metadata": {},
   "outputs": [
    {
     "data": {
      "text/plain": [
       "19"
      ]
     },
     "execution_count": 159,
     "metadata": {},
     "output_type": "execute_result"
    }
   ],
   "source": [
    "sum_odd(l)"
   ]
  },
  {
   "cell_type": "code",
   "execution_count": 165,
   "id": "822c489d-cc3f-47ea-83e2-76c27313957d",
   "metadata": {},
   "outputs": [],
   "source": [
    "#take list as input and give summation of odd numbers\n",
    "l = [3,4,5,76,3,2,3,4,5]\n",
    "sum_odd_lambda = lambda b : sum([i for i in b if i%2!=0])"
   ]
  },
  {
   "cell_type": "code",
   "execution_count": 166,
   "id": "d253c7e7-bdd1-4ad8-a4af-a92772a0b4cd",
   "metadata": {},
   "outputs": [
    {
     "data": {
      "text/plain": [
       "19"
      ]
     },
     "execution_count": 166,
     "metadata": {},
     "output_type": "execute_result"
    }
   ],
   "source": [
    "sum_odd_lambda(l)"
   ]
  },
  {
   "cell_type": "markdown",
   "id": "3ae51f86-28d7-41a4-a43b-12e7e15cd85f",
   "metadata": {},
   "source": [
    "Recursion----------calling fun inside function"
   ]
  },
  {
   "cell_type": "code",
   "execution_count": 170,
   "id": "4ceb002f-5426-481d-846e-cfa41d7aa7d2",
   "metadata": {},
   "outputs": [],
   "source": [
    "####factorial of the number####\n",
    "def fact_num(n):\n",
    "    if n==0:\n",
    "        return 1\n",
    "    else:\n",
    "        return n*fact_num(n-1)  #4*3----fact(3) next 3*2-----next loop continues\n",
    "    "
   ]
  },
  {
   "cell_type": "code",
   "execution_count": 173,
   "id": "08e1d686-62b9-434e-b9c3-974773fa6a95",
   "metadata": {},
   "outputs": [
    {
     "data": {
      "text/plain": [
       "24"
      ]
     },
     "execution_count": 173,
     "metadata": {},
     "output_type": "execute_result"
    }
   ],
   "source": [
    "fact_num(4)  #keep on calling it self"
   ]
  },
  {
   "cell_type": "code",
   "execution_count": 174,
   "id": "49e70451-1f2c-425e-ae51-0fe8afa56bb2",
   "metadata": {},
   "outputs": [
    {
     "data": {
      "text/plain": [
       "1"
      ]
     },
     "execution_count": 174,
     "metadata": {},
     "output_type": "execute_result"
    }
   ],
   "source": [
    "fact_num(0)"
   ]
  },
  {
   "cell_type": "code",
   "execution_count": 179,
   "id": "2041d36d-7c91-4aaa-a880-688c1a461d84",
   "metadata": {},
   "outputs": [],
   "source": [
    "#without using recursion\n",
    "def fact_num(n):  #value 4\n",
    "    a =1\n",
    "    for i in range(1,n+1):     #1,2,3,4 -1,5 range\n",
    "        a = i* a                # 1*1,next loop 2*1, next loop3*1, next loop4*1 == 24\n",
    "    return a"
   ]
  },
  {
   "cell_type": "code",
   "execution_count": 177,
   "id": "3cf31579-ab05-4d86-bf3d-234600e1a84b",
   "metadata": {},
   "outputs": [
    {
     "data": {
      "text/plain": [
       "1"
      ]
     },
     "execution_count": 177,
     "metadata": {},
     "output_type": "execute_result"
    }
   ],
   "source": [
    "fact_num(0)"
   ]
  },
  {
   "cell_type": "code",
   "execution_count": 178,
   "id": "beab2714-5afb-4488-b85d-93640f60cbd3",
   "metadata": {},
   "outputs": [
    {
     "data": {
      "text/plain": [
       "24"
      ]
     },
     "execution_count": 178,
     "metadata": {},
     "output_type": "execute_result"
    }
   ],
   "source": [
    "fact_num(4)"
   ]
  },
  {
   "cell_type": "code",
   "execution_count": 180,
   "id": "484b2245-7a1c-46d7-bc47-40a5538c15b0",
   "metadata": {},
   "outputs": [],
   "source": [
    "#using lambda\n",
    "fact_num_lambda = lambda n : 1 if n==0 else n*fact_num_lambda(n-1)                  # lambda n is input"
   ]
  },
  {
   "cell_type": "code",
   "execution_count": 181,
   "id": "5e825c33-6c02-46d1-bdd2-94e29e8d5ca4",
   "metadata": {},
   "outputs": [
    {
     "data": {
      "text/plain": [
       "120"
      ]
     },
     "execution_count": 181,
     "metadata": {},
     "output_type": "execute_result"
    }
   ],
   "source": [
    "fact_num_lambda(5)\n"
   ]
  },
  {
   "cell_type": "markdown",
   "id": "3fd40d00-3818-48ba-b0cc-fd4eb2208a91",
   "metadata": {},
   "source": [
    "MAP,REDUCE,FILTER"
   ]
  },
  {
   "cell_type": "code",
   "execution_count": 208,
   "id": "4de578c2-64d0-4fdd-8fd3-13b82f59eb67",
   "metadata": {},
   "outputs": [],
   "source": [
    "l = [5,6,7,8,89]\n",
    "#create other liste where you add every number 2\n",
    "def add_list(l):\n",
    "    c=[]\n",
    "    for i in l:\n",
    "        count = i + 2\n",
    "        c.append(count) \n",
    "    return c"
   ]
  },
  {
   "cell_type": "code",
   "execution_count": 209,
   "id": "df8f9d43-704d-4a03-81de-eb245ce0d497",
   "metadata": {},
   "outputs": [
    {
     "data": {
      "text/plain": [
       "[7, 8, 9, 10, 91]"
      ]
     },
     "execution_count": 209,
     "metadata": {},
     "output_type": "execute_result"
    }
   ],
   "source": [
    "add_list(l)"
   ]
  },
  {
   "cell_type": "code",
   "execution_count": 217,
   "id": "5069adf5-7b99-4178-a03c-ea7013cb9b1c",
   "metadata": {},
   "outputs": [],
   "source": [
    "l = [5,6,7,8,89]  #without using function\n",
    "l1=[]\n",
    "for i in l:\n",
    "    l1.append(i+2)"
   ]
  },
  {
   "cell_type": "code",
   "execution_count": 214,
   "id": "c2ac12f2-975f-47f3-97a1-87319737f7ba",
   "metadata": {},
   "outputs": [
    {
     "data": {
      "text/plain": [
       "[7, 8, 9, 10, 91]"
      ]
     },
     "execution_count": 214,
     "metadata": {},
     "output_type": "execute_result"
    }
   ],
   "source": [
    "l1"
   ]
  },
  {
   "cell_type": "code",
   "execution_count": 216,
   "id": "b6e40ba4-b51d-4f2d-8491-afaf969bc098",
   "metadata": {},
   "outputs": [
    {
     "data": {
      "text/plain": [
       "[3, 4, 5, 6]"
      ]
     },
     "execution_count": 216,
     "metadata": {},
     "output_type": "execute_result"
    }
   ],
   "source": [
    "add_list([1,2,3,4])"
   ]
  },
  {
   "cell_type": "code",
   "execution_count": 218,
   "id": "8e8eda93-1e8f-40ca-ae7a-a8fb5f4a617e",
   "metadata": {},
   "outputs": [],
   "source": [
    "v = lambda a: a+2  #taking input as 2 and doing input+2"
   ]
  },
  {
   "cell_type": "code",
   "execution_count": 219,
   "id": "3153bd52-2335-4925-899c-9823b96cebeb",
   "metadata": {},
   "outputs": [
    {
     "data": {
      "text/plain": [
       "12"
      ]
     },
     "execution_count": 219,
     "metadata": {},
     "output_type": "execute_result"
    }
   ],
   "source": [
    "v(10)"
   ]
  },
  {
   "cell_type": "code",
   "execution_count": 221,
   "id": "92161e81-0b21-473e-a2cf-c53d3a1eb681",
   "metadata": {},
   "outputs": [
    {
     "data": {
      "text/plain": [
       "[5, 6, 7, 8, 89]"
      ]
     },
     "execution_count": 221,
     "metadata": {},
     "output_type": "execute_result"
    }
   ],
   "source": [
    "l #pass list and output final lsit elemnt +2"
   ]
  },
  {
   "cell_type": "code",
   "execution_count": 223,
   "id": "31d01856-233d-4519-ad2b-e64ffcc6a6c4",
   "metadata": {},
   "outputs": [
    {
     "data": {
      "text/plain": [
       "<map at 0x7f1e1c2ef730>"
      ]
     },
     "execution_count": 223,
     "metadata": {},
     "output_type": "execute_result"
    }
   ],
   "source": [
    "map(lambda a: a+2,l)"
   ]
  },
  {
   "cell_type": "code",
   "execution_count": 225,
   "id": "24559f9b-51a0-4db2-8ce0-2eaf9ce931f0",
   "metadata": {},
   "outputs": [
    {
     "data": {
      "text/plain": [
       "[5, 6, 7, 8, 89]"
      ]
     },
     "execution_count": 225,
     "metadata": {},
     "output_type": "execute_result"
    }
   ],
   "source": [
    "l"
   ]
  },
  {
   "cell_type": "code",
   "execution_count": 224,
   "id": "104d1aca-3a6f-466f-b5c6-e981b81378cb",
   "metadata": {},
   "outputs": [
    {
     "data": {
      "text/plain": [
       "[7, 8, 9, 10, 91]"
      ]
     },
     "execution_count": 224,
     "metadata": {},
     "output_type": "execute_result"
    }
   ],
   "source": [
    "list(map(lambda a: a+2,l))"
   ]
  },
  {
   "cell_type": "code",
   "execution_count": 231,
   "id": "e158ab21-b4c1-4e6f-abff-35feab00fd5b",
   "metadata": {},
   "outputs": [],
   "source": [
    "#using function\n",
    "def test34(c):\n",
    "    return c+2\n"
   ]
  },
  {
   "cell_type": "code",
   "execution_count": 238,
   "id": "a4b02d2d-8a87-49c9-a2b7-241bea07f647",
   "metadata": {},
   "outputs": [
    {
     "data": {
      "text/plain": [
       "<map at 0x7f1e1c2dd3c0>"
      ]
     },
     "execution_count": 238,
     "metadata": {},
     "output_type": "execute_result"
    }
   ],
   "source": [
    "map(test34,l)  #map uses to do same operation on multiple elements"
   ]
  },
  {
   "cell_type": "code",
   "execution_count": 230,
   "id": "e508e137-46c3-4f01-903e-ff309290507c",
   "metadata": {},
   "outputs": [
    {
     "data": {
      "text/plain": [
       "[7, 8, 9, 10, 91]"
      ]
     },
     "execution_count": 230,
     "metadata": {},
     "output_type": "execute_result"
    }
   ],
   "source": [
    "list(map(test34,l))"
   ]
  },
  {
   "cell_type": "code",
   "execution_count": 232,
   "id": "3aa44b28-5bfa-44f2-8e0a-a53bfe24ef90",
   "metadata": {},
   "outputs": [
    {
     "data": {
      "text/plain": [
       "7"
      ]
     },
     "execution_count": 232,
     "metadata": {},
     "output_type": "execute_result"
    }
   ],
   "source": [
    "test34(5)"
   ]
  },
  {
   "cell_type": "code",
   "execution_count": 233,
   "id": "0dfd7316-f352-4db3-aa69-8da8740386fd",
   "metadata": {},
   "outputs": [
    {
     "data": {
      "text/plain": [
       "8"
      ]
     },
     "execution_count": 233,
     "metadata": {},
     "output_type": "execute_result"
    }
   ],
   "source": [
    "test34(6)"
   ]
  },
  {
   "cell_type": "code",
   "execution_count": 235,
   "id": "d7caad3c-5fd0-43ba-b1b8-5422b5992745",
   "metadata": {},
   "outputs": [
    {
     "data": {
      "text/plain": [
       "9"
      ]
     },
     "execution_count": 235,
     "metadata": {},
     "output_type": "execute_result"
    }
   ],
   "source": [
    "test34(7)"
   ]
  },
  {
   "cell_type": "code",
   "execution_count": 236,
   "id": "a57b7332-e563-4910-bdcc-599a1114778b",
   "metadata": {},
   "outputs": [
    {
     "data": {
      "text/plain": [
       "10"
      ]
     },
     "execution_count": 236,
     "metadata": {},
     "output_type": "execute_result"
    }
   ],
   "source": [
    "test34(8)"
   ]
  },
  {
   "cell_type": "code",
   "execution_count": 237,
   "id": "1d5917ae-e7ea-4884-8a93-7b3458296398",
   "metadata": {},
   "outputs": [
    {
     "data": {
      "text/plain": [
       "91"
      ]
     },
     "execution_count": 237,
     "metadata": {},
     "output_type": "execute_result"
    }
   ],
   "source": [
    "test34(89)"
   ]
  },
  {
   "cell_type": "code",
   "execution_count": 18,
   "id": "7845e37d-73cd-46d6-83d9-e31928ad7a65",
   "metadata": {},
   "outputs": [],
   "source": [
    "#find length of each word in a string\n",
    "a = [\"vamshi\", \"krishna\",\"eah\"]\n"
   ]
  },
  {
   "cell_type": "code",
   "execution_count": 26,
   "id": "9a83fc19-5d30-4e4a-8596-645334f1faaa",
   "metadata": {},
   "outputs": [],
   "source": [
    "#for loop\n",
    "l1=[]\n",
    "for i in a:\n",
    "    l1.append(len(i))"
   ]
  },
  {
   "cell_type": "code",
   "execution_count": 20,
   "id": "ddb3396c-3123-4c12-94f0-2b7c88965d6a",
   "metadata": {},
   "outputs": [
    {
     "data": {
      "text/plain": [
       "[6, 7, 3]"
      ]
     },
     "execution_count": 20,
     "metadata": {},
     "output_type": "execute_result"
    }
   ],
   "source": [
    "l1"
   ]
  },
  {
   "cell_type": "code",
   "execution_count": 21,
   "id": "8ed82dc7-9e9c-4b3f-b6a3-592a9ceeaed2",
   "metadata": {},
   "outputs": [],
   "source": [
    "l = [\"vamshi\", \"krishna\",\"eah\"]\n"
   ]
  },
  {
   "cell_type": "code",
   "execution_count": 27,
   "id": "2b35855d-8948-4588-804b-b8a32804543f",
   "metadata": {},
   "outputs": [],
   "source": [
    "#function\n",
    "def test35(l):\n",
    "    l1=[]\n",
    "    for i in l:\n",
    "        l1.append(len(i))\n",
    "    return l1"
   ]
  },
  {
   "cell_type": "code",
   "execution_count": 28,
   "id": "7a53b5fb-d5b3-4485-b1f0-ce72ee304dc1",
   "metadata": {},
   "outputs": [
    {
     "data": {
      "text/plain": [
       "[6, 7, 3]"
      ]
     },
     "execution_count": 28,
     "metadata": {},
     "output_type": "execute_result"
    }
   ],
   "source": [
    "test35(l)"
   ]
  },
  {
   "cell_type": "code",
   "execution_count": 34,
   "id": "5b39b491-819e-4a4f-b93b-f3982f97ce13",
   "metadata": {},
   "outputs": [
    {
     "data": {
      "text/plain": [
       "[6, 7, 3]"
      ]
     },
     "execution_count": 34,
     "metadata": {},
     "output_type": "execute_result"
    }
   ],
   "source": [
    "#map\n",
    "list(map(lambda c :len(c),l))"
   ]
  },
  {
   "cell_type": "code",
   "execution_count": 31,
   "id": "1aed3614-aedc-4c6c-b8bc-c2d4dd5b6955",
   "metadata": {},
   "outputs": [],
   "source": [
    "def test36(c):\n",
    "    return len(c)"
   ]
  },
  {
   "cell_type": "code",
   "execution_count": 35,
   "id": "a74c80d5-eda6-41eb-9887-aef3107134db",
   "metadata": {},
   "outputs": [
    {
     "data": {
      "text/plain": [
       "[6, 7, 3]"
      ]
     },
     "execution_count": 35,
     "metadata": {},
     "output_type": "execute_result"
    }
   ],
   "source": [
    "list(map(test36,l))  # map takes function ehich works on individual elemnts not on complete list"
   ]
  },
  {
   "cell_type": "code",
   "execution_count": 36,
   "id": "1fa51dc0-c839-4a3d-ae7f-7f44f422b29c",
   "metadata": {},
   "outputs": [
    {
     "data": {
      "text/plain": [
       "[6, 7, 3]"
      ]
     },
     "execution_count": 36,
     "metadata": {},
     "output_type": "execute_result"
    }
   ],
   "source": [
    "list(map(len,l))"
   ]
  },
  {
   "cell_type": "code",
   "execution_count": 37,
   "id": "80b73142-1f66-4b02-8157-4cc4882791bb",
   "metadata": {},
   "outputs": [
    {
     "data": {
      "text/plain": [
       "['vamshi', 'krishna', 'eah']"
      ]
     },
     "execution_count": 37,
     "metadata": {},
     "output_type": "execute_result"
    }
   ],
   "source": [
    "l"
   ]
  },
  {
   "cell_type": "code",
   "execution_count": 45,
   "id": "5b366f50-3dd3-463a-90c3-43b97b8dce24",
   "metadata": {},
   "outputs": [
    {
     "data": {
      "text/plain": [
       "['eah', 'krishna', 'vamshi']"
      ]
     },
     "execution_count": 45,
     "metadata": {},
     "output_type": "execute_result"
    }
   ],
   "source": [
    "l[::-1]"
   ]
  },
  {
   "cell_type": "code",
   "execution_count": 40,
   "id": "541805ee-de5f-470b-9922-2719c7c81bd3",
   "metadata": {},
   "outputs": [],
   "source": [
    "#to reverse elements in list\n",
    "def test36(c):\n",
    "    return c[::-1]\n"
   ]
  },
  {
   "cell_type": "code",
   "execution_count": 41,
   "id": "4c071f8b-dff0-41ff-9702-b43ea5482249",
   "metadata": {},
   "outputs": [
    {
     "data": {
      "text/plain": [
       "['ihsmav', 'anhsirk', 'hae']"
      ]
     },
     "execution_count": 41,
     "metadata": {},
     "output_type": "execute_result"
    }
   ],
   "source": [
    "list(map(test36,l))"
   ]
  },
  {
   "cell_type": "code",
   "execution_count": 42,
   "id": "60f361d9-da6d-433b-8fac-eb42fe614dd6",
   "metadata": {},
   "outputs": [
    {
     "data": {
      "text/plain": [
       "'ihsmav'"
      ]
     },
     "execution_count": 42,
     "metadata": {},
     "output_type": "execute_result"
    }
   ],
   "source": [
    "s = \"vamshi\"\n",
    "s[::-1]"
   ]
  },
  {
   "cell_type": "code",
   "execution_count": 44,
   "id": "71224fb5-1fbd-4679-8959-8dee9ebc979f",
   "metadata": {},
   "outputs": [
    {
     "data": {
      "text/plain": [
       "['ihsmav', 'anhsirk', 'hae']"
      ]
     },
     "execution_count": 44,
     "metadata": {},
     "output_type": "execute_result"
    }
   ],
   "source": [
    "list(map(lambda a:a[::-1],l)) #using lambda"
   ]
  },
  {
   "cell_type": "code",
   "execution_count": 6,
   "id": "fbf45cb8-390b-40a6-a057-2f6c44ccf68f",
   "metadata": {},
   "outputs": [],
   "source": [
    "#REDUCE----------you need to import\n",
    "#try to give me result where each ement of list with multiply by 2 and add\n",
    "l = [2,3,2,1,4] #find out multiplication of every element and give total\n",
    "from functools import reduce #functools-library(someone written fun,oops inside library) in package-package(nothing but combination of multiple fun and classes)club it &put it in folder"
   ]
  },
  {
   "cell_type": "code",
   "execution_count": 7,
   "id": "c6fe5647-08a5-4200-a031-99257e2f61bc",
   "metadata": {},
   "outputs": [
    {
     "data": {
      "text/plain": [
       "48"
      ]
     },
     "execution_count": 7,
     "metadata": {},
     "output_type": "execute_result"
    }
   ],
   "source": [
    "reduce(lambda a,b :a*b,l)     #takes 2 arguments---function and iterable object,fun may be external/lambda/in built"
   ]
  },
  {
   "cell_type": "markdown",
   "id": "7b043ba8-3fe5-4a95-8bb7-51d17a651c47",
   "metadata": {},
   "source": [
    " map---is function not collapse but to map every element with function and give exact same no of outcomes.every time perform operation on data get one result.---multiple result\n",
    "\n",
    " reduce----trying to collapse list and it keeps on collapse it umtill unless exhaust the entire list(used where looking for final one single result)"
   ]
  },
  {
   "cell_type": "code",
   "execution_count": 8,
   "id": "1c47ff74-07a0-4e2e-9ee7-7daf2162911c",
   "metadata": {},
   "outputs": [
    {
     "data": {
      "text/plain": [
       "[2, 3, 2, 1, 4]"
      ]
     },
     "execution_count": 8,
     "metadata": {},
     "output_type": "execute_result"
    }
   ],
   "source": [
    "l"
   ]
  },
  {
   "cell_type": "code",
   "execution_count": 9,
   "id": "5a65f0e9-a452-47ba-b31b-e2edef614a5f",
   "metadata": {},
   "outputs": [
    {
     "data": {
      "text/plain": [
       "1"
      ]
     },
     "execution_count": 9,
     "metadata": {},
     "output_type": "execute_result"
    }
   ],
   "source": [
    "min(l)"
   ]
  },
  {
   "cell_type": "code",
   "execution_count": 10,
   "id": "53171c56-65e0-407f-9a95-4d21ecd7e7aa",
   "metadata": {},
   "outputs": [
    {
     "data": {
      "text/plain": [
       "4"
      ]
     },
     "execution_count": 10,
     "metadata": {},
     "output_type": "execute_result"
    }
   ],
   "source": [
    "max(l)"
   ]
  },
  {
   "cell_type": "code",
   "execution_count": 16,
   "id": "99cbbed0-5173-47bc-af5c-83deeb1b67a4",
   "metadata": {},
   "outputs": [
    {
     "data": {
      "text/plain": [
       "4"
      ]
     },
     "execution_count": 16,
     "metadata": {},
     "output_type": "execute_result"
    }
   ],
   "source": [
    "#you have to find out min without using in built function min()\n",
    "from functools import reduce\n",
    "reduce(lambda a,b:a if a>b else b  ,l)  #max     first a=2 b=3 a>b false it return b i.e a=3  ,next b=2 a>b true a=3,next a=3 b=1 a>b true i.e a=3,next b=4 a>b false it return b i.e a=4 -----this is how reduce is working"
   ]
  },
  {
   "cell_type": "code",
   "execution_count": 17,
   "id": "a10bbb0b-9f32-4578-8348-bacf17866a8f",
   "metadata": {},
   "outputs": [
    {
     "data": {
      "text/plain": [
       "1"
      ]
     },
     "execution_count": 17,
     "metadata": {},
     "output_type": "execute_result"
    }
   ],
   "source": [
    "reduce(lambda a,b:a if a<b else b  ,l) #min"
   ]
  },
  {
   "cell_type": "code",
   "execution_count": 29,
   "id": "3b3f0d3b-c602-4fc0-993c-461afd71869b",
   "metadata": {},
   "outputs": [],
   "source": [
    "#factorial of number----using reduce&lambda function\n",
    "n = 4\n",
    "fact = reduce(lambda a,b : a*b , range(1,n+1))   #range (1,4+1)-----1,2,3,4 & lambda take a,b multiply it 1*2=2,2*3=6,6*4=24 done"
   ]
  },
  {
   "cell_type": "code",
   "execution_count": 22,
   "id": "b080e6d3-dd21-421c-85b9-a180364fd081",
   "metadata": {},
   "outputs": [
    {
     "data": {
      "text/plain": [
       "24"
      ]
     },
     "execution_count": 22,
     "metadata": {},
     "output_type": "execute_result"
    }
   ],
   "source": [
    "fact"
   ]
  },
  {
   "cell_type": "code",
   "execution_count": 26,
   "id": "74337ee6-6221-4d21-a004-0137410af23a",
   "metadata": {},
   "outputs": [],
   "source": [
    "#by using external function\n",
    "def test(a,b):\n",
    "    return a*b"
   ]
  },
  {
   "cell_type": "code",
   "execution_count": 27,
   "id": "d830dc82-6178-4ca4-93a5-28c4f7ac26f9",
   "metadata": {},
   "outputs": [],
   "source": [
    "fact1 = reduce(test,range(1,n+1))"
   ]
  },
  {
   "cell_type": "code",
   "execution_count": 28,
   "id": "697f50c5-96a5-4200-a5e3-d5e9c924b1d3",
   "metadata": {},
   "outputs": [
    {
     "data": {
      "text/plain": [
       "24"
      ]
     },
     "execution_count": 28,
     "metadata": {},
     "output_type": "execute_result"
    }
   ],
   "source": [
    "fact1"
   ]
  },
  {
   "cell_type": "code",
   "execution_count": 52,
   "id": "3ff9c048-c2f0-43ea-ba7c-50010b999483",
   "metadata": {},
   "outputs": [
    {
     "data": {
      "text/plain": [
       "[1, 2, 3, 4, 5]"
      ]
     },
     "execution_count": 52,
     "metadata": {},
     "output_type": "execute_result"
    }
   ],
   "source": [
    "l"
   ]
  },
  {
   "cell_type": "code",
   "execution_count": 56,
   "id": "033b2977-fffb-436c-b3fc-ffd7fd510a2f",
   "metadata": {},
   "outputs": [
    {
     "data": {
      "text/plain": [
       "8"
      ]
     },
     "execution_count": 56,
     "metadata": {},
     "output_type": "execute_result"
    }
   ],
   "source": [
    "#you have to calculate a product of all the even number by using reduce\n",
    "from functools import reduce\n",
    "\n",
    "reduce(lambda a,b:a*b,[i for i in l if i%2==0])"
   ]
  },
  {
   "cell_type": "code",
   "execution_count": 57,
   "id": "931844e6-5b45-44ef-a3e4-289364012d82",
   "metadata": {},
   "outputs": [],
   "source": [
    "def test1(a):\n",
    "    l1 = []  # Create an empty list to store even numbers\n",
    "    for i in a:\n",
    "        if i % 2 == 0:\n",
    "            l1.append(i)\n",
    "    return l1  # Return the list of even numbers after the loop has finished\n"
   ]
  },
  {
   "cell_type": "code",
   "execution_count": 58,
   "id": "ebe12ffa-a92d-451d-bf88-19addb8e3d94",
   "metadata": {},
   "outputs": [
    {
     "data": {
      "text/plain": [
       "[2, 4]"
      ]
     },
     "execution_count": 58,
     "metadata": {},
     "output_type": "execute_result"
    }
   ],
   "source": [
    "test1(l)"
   ]
  },
  {
   "cell_type": "code",
   "execution_count": 60,
   "id": "003fae7a-375b-40a6-863e-11edd839bb1c",
   "metadata": {},
   "outputs": [],
   "source": [
    "#filter---it will filter out data based on some conditions\n",
    "l = [3,4,5,6,76,3,32,2,4,5,5,5]"
   ]
  },
  {
   "cell_type": "code",
   "execution_count": 65,
   "id": "e9e60329-b995-498d-bcd4-d0674751ed44",
   "metadata": {},
   "outputs": [
    {
     "data": {
      "text/plain": [
       "<filter at 0x7f64a6b33700>"
      ]
     },
     "execution_count": 65,
     "metadata": {},
     "output_type": "execute_result"
    }
   ],
   "source": [
    "#filter out all odd no in list using filter,it take 2 arguments,function,iterable \n",
    "filter(lambda a:a%2==0,l)"
   ]
  },
  {
   "cell_type": "code",
   "execution_count": 66,
   "id": "e3533789-43f5-4d01-85c7-3734f3ff9c4e",
   "metadata": {},
   "outputs": [
    {
     "data": {
      "text/plain": [
       "[4, 6, 76, 32, 2, 4]"
      ]
     },
     "execution_count": 66,
     "metadata": {},
     "output_type": "execute_result"
    }
   ],
   "source": [
    "list(filter(lambda a:a%2==0,l))"
   ]
  },
  {
   "cell_type": "code",
   "execution_count": 69,
   "id": "b4aea15f-baa7-4555-a107-220e05330b6f",
   "metadata": {},
   "outputs": [],
   "source": [
    "#filter apply on every element of iterable object ,where ever condition true ,it will print it to final list ,if false not print\n"
   ]
  },
  {
   "cell_type": "code",
   "execution_count": 76,
   "id": "8327847e-e698-44e1-ad42-418ebc7b3aa6",
   "metadata": {},
   "outputs": [],
   "source": [
    "s = \"Pw Skills\""
   ]
  },
  {
   "cell_type": "code",
   "execution_count": 78,
   "id": "0fa13714-967e-4a15-921d-952e91dcc69c",
   "metadata": {},
   "outputs": [
    {
     "data": {
      "text/plain": [
       "['w', 'k', 'i', 'l', 'l', 's']"
      ]
     },
     "execution_count": 78,
     "metadata": {},
     "output_type": "execute_result"
    }
   ],
   "source": [
    "#filter out lower case data in list-----filter always work on TRUE AND FALSE----true will be final result\n",
    "list(filter(lambda a : a.islower(),s))"
   ]
  },
  {
   "cell_type": "code",
   "execution_count": 79,
   "id": "167824e9-a7ce-4b10-bc27-85a02d8c4bfb",
   "metadata": {},
   "outputs": [],
   "source": [
    "l =[\"pw\",\"pwskills\",\"sudh\",\"krish\"]"
   ]
  },
  {
   "cell_type": "code",
   "execution_count": 83,
   "id": "b50ea27b-a89c-42bb-951b-487515a79e63",
   "metadata": {},
   "outputs": [
    {
     "data": {
      "text/plain": [
       "['pw', 'sudh']"
      ]
     },
     "execution_count": 83,
     "metadata": {},
     "output_type": "execute_result"
    }
   ],
   "source": [
    "#filter out data that is len()<4\n",
    "list(filter(lambda a: len(a)<=4,l))"
   ]
  },
  {
   "cell_type": "code",
   "execution_count": 84,
   "id": "fcb5065c-e248-44f0-a7b4-cacab35e6f55",
   "metadata": {},
   "outputs": [
    {
     "data": {
      "text/plain": [
       "['pw', 'pwskills', 'sudh', 'krish']"
      ]
     },
     "execution_count": 84,
     "metadata": {},
     "output_type": "execute_result"
    }
   ],
   "source": [
    "l"
   ]
  },
  {
   "cell_type": "code",
   "execution_count": 87,
   "id": "61ff6090-5e73-4c59-b871-4c2d1f3abc14",
   "metadata": {},
   "outputs": [
    {
     "data": {
      "text/plain": [
       "['pw', 'pwskills']"
      ]
     },
     "execution_count": 87,
     "metadata": {},
     "output_type": "execute_result"
    }
   ],
   "source": [
    "#filter word start with \"p\"\n",
    "list(filter(lambda a: a[0]==\"p\",l))"
   ]
  },
  {
   "cell_type": "markdown",
   "id": "da3b0fcc-dc39-4775-bb22-b5d7c278934f",
   "metadata": {},
   "source": [
    "-------------------------------RECURSION FUNCTION-------------------------------calling a same function again again and again untill task is done i.e str()/iterable object will exhausted"
   ]
  },
  {
   "cell_type": "code",
   "execution_count": 104,
   "id": "4b3a39ce-aa1e-4332-adb7-43211c2cb5f9",
   "metadata": {},
   "outputs": [
    {
     "name": "stdout",
     "output_type": "stream",
     "text": [
      "13\n"
     ]
    }
   ],
   "source": [
    "#fibinaci series 1,1,1+1=2,3,5,8,13,21----where next number is going to be summation of previous 2 numbers\n",
    "\n",
    "n = 7\n",
    "a, b = 0, 1  # Initialize the first two Fibonacci numbers\n",
    "for i in range(2, n + 1):\n",
    "    c = a + b\n",
    "    a, b = b, c  # Update a and b for the next iteration\n",
    "\n",
    "print(c)\n",
    "    \n"
   ]
  },
  {
   "cell_type": "code",
   "execution_count": 102,
   "id": "187848cc-25dd-49cf-9aaa-9664de0e6b7d",
   "metadata": {},
   "outputs": [],
   "source": [
    "#using recursive call---7th fib number is 13\n",
    "def gen_fib(n):   # n=7\n",
    "    if n <=1:      #false come to else  \n",
    "        return n\n",
    "    else:\n",
    "        return gen_fib(n-1) + gen_fib(n-2)   #1,1,2,3,5,8,13                   #n-1=fib(6) + 7-2=fib(5) ===f(6)==fib(5)+fib(4),    fib(5)==fib(4)+fib(3),  fib(4)==fib(3)+fib(2),   f(3)==f(2)+fib(1),fib(1)==1\n",
    "                                                                                                  "
   ]
  },
  {
   "cell_type": "code",
   "execution_count": 103,
   "id": "a7dd6726-ac14-4caa-869a-da6b2ce8776b",
   "metadata": {},
   "outputs": [
    {
     "data": {
      "text/plain": [
       "13"
      ]
     },
     "execution_count": 103,
     "metadata": {},
     "output_type": "execute_result"
    }
   ],
   "source": [
    "gen_fib(7)"
   ]
  },
  {
   "cell_type": "code",
   "execution_count": 105,
   "id": "7ffceea3-b043-4e88-9f06-2a572188e3df",
   "metadata": {},
   "outputs": [
    {
     "data": {
      "text/plain": [
       "2"
      ]
     },
     "execution_count": 105,
     "metadata": {},
     "output_type": "execute_result"
    }
   ],
   "source": [
    "gen_fib(3)"
   ]
  },
  {
   "cell_type": "markdown",
   "id": "8ec10253-2da7-4e83-8b98-86bc56286cc8",
   "metadata": {},
   "source": [
    "***recursive fun is like for loop for function***"
   ]
  },
  {
   "cell_type": "code",
   "execution_count": 111,
   "id": "fb9dca67-c897-4368-9e75-00447fe8bc8b",
   "metadata": {},
   "outputs": [],
   "source": [
    "#summation of  1---100 in one result\n",
    "\n",
    "def sum_till_n(n):  #n=5\n",
    "    if n==1:              #false go to else\n",
    "        return 1\n",
    "    else:\n",
    "        return n+sum_till_n(n-1)            # 5+s(4)           5+4+sum(3)             5+4+3+sum(2)              5+4+3+2+sum(1)     5+4+3+2+1=15"
   ]
  },
  {
   "cell_type": "code",
   "execution_count": 112,
   "id": "58363fab-1b19-4189-944f-c781d29517bf",
   "metadata": {},
   "outputs": [
    {
     "data": {
      "text/plain": [
       "15"
      ]
     },
     "execution_count": 112,
     "metadata": {},
     "output_type": "execute_result"
    }
   ],
   "source": [
    "sum_till_n(5)  #1+2+3+4+5=15"
   ]
  },
  {
   "cell_type": "markdown",
   "id": "98e01eca-ec8f-4a49-9c30-4dc19ab9d655",
   "metadata": {},
   "source": [
    "###next class agenda\n",
    "recursion--again revision\n",
    "while loop--revision\n",
    "iterator,iterable,generator--yield\n",
    "zip\n",
    "enumeration\n",
    "decarators\n",
    "comprehension\n",
    "\n",
    "along with multiple example function\n",
    "oops---class,self\n",
    "regits"
   ]
  }
 ],
 "metadata": {
  "kernelspec": {
   "display_name": "Python 3 (ipykernel)",
   "language": "python",
   "name": "python3"
  },
  "language_info": {
   "codemirror_mode": {
    "name": "ipython",
    "version": 3
   },
   "file_extension": ".py",
   "mimetype": "text/x-python",
   "name": "python",
   "nbconvert_exporter": "python",
   "pygments_lexer": "ipython3",
   "version": "3.10.8"
  }
 },
 "nbformat": 4,
 "nbformat_minor": 5
}
